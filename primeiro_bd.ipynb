{
 "cells": [
  {
   "cell_type": "code",
   "execution_count": 1,
   "id": "e718b304-fcfb-425c-831a-a5765a89151c",
   "metadata": {},
   "outputs": [],
   "source": [
    "import sqlite3"
   ]
  },
  {
   "cell_type": "code",
   "execution_count": 3,
   "id": "bcb5ce71-8f2e-4d6b-b3a7-321c428a3d28",
   "metadata": {},
   "outputs": [],
   "source": [
    "#conecta com o banco de dados\n",
    "conexao = sqlite3.connect('Base_uracan.db')"
   ]
  },
  {
   "cell_type": "code",
   "execution_count": 5,
   "id": "1e22183c-7c82-4a56-8322-50185c1b5afe",
   "metadata": {},
   "outputs": [],
   "source": [
    "cursor = conexao.cursor()"
   ]
  },
  {
   "cell_type": "code",
   "execution_count": 45,
   "id": "bb565735-5440-4047-96bb-d1ddbe4b0073",
   "metadata": {},
   "outputs": [
    {
     "data": {
      "text/plain": [
       "<sqlite3.Cursor at 0x20b43343cc0>"
      ]
     },
     "execution_count": 45,
     "metadata": {},
     "output_type": "execute_result"
    }
   ],
   "source": [
    "#cria a tabela de carros\n",
    "criar_tabela = 'Create table Carro (Id_carro integer primary key, modelo varchar(200), preco float)'\n",
    "cursor.execute(criar_tabela)"
   ]
  },
  {
   "cell_type": "code",
   "execution_count": 43,
   "id": "72d08ff8-97ba-42a9-be4e-3b85f5c2247e",
   "metadata": {},
   "outputs": [
    {
     "data": {
      "text/plain": [
       "<sqlite3.Cursor at 0x20b43343cc0>"
      ]
     },
     "execution_count": 43,
     "metadata": {},
     "output_type": "execute_result"
    }
   ],
   "source": [
    "#excluir tabela\n",
    "cursor.execute('Drop table Carro')"
   ]
  },
  {
   "cell_type": "code",
   "execution_count": 47,
   "id": "4ef181f6-c9fe-4f61-861b-d7d82bd49e8d",
   "metadata": {},
   "outputs": [
    {
     "data": {
      "text/plain": [
       "<sqlite3.Cursor at 0x20b43343cc0>"
      ]
     },
     "execution_count": 47,
     "metadata": {},
     "output_type": "execute_result"
    }
   ],
   "source": [
    "#insere um carro\n",
    "cursor.execute(\"Insert into Carro values(1, 'lamborghini urus', 1000000)\")"
   ]
  },
  {
   "cell_type": "code",
   "execution_count": 49,
   "id": "f18e0315-4149-44ab-850d-6f7950574485",
   "metadata": {},
   "outputs": [],
   "source": [
    "#jeito melhor de inserir vários itens\n",
    "comando_inserir = 'insert into Carro values (?, ?, ?)'"
   ]
  },
  {
   "cell_type": "code",
   "execution_count": 51,
   "id": "49fea6bc-7e69-4749-99e0-d9fdda3e4488",
   "metadata": {},
   "outputs": [],
   "source": [
    "registros = [(2, 'porshe carrera', 150000.5),\n",
    "             (3, 'chrysler', 100000),\n",
    "            (4, 'gol g3', 20000)]"
   ]
  },
  {
   "cell_type": "code",
   "execution_count": 53,
   "id": "1466b667-8240-4838-8baf-ccdd11ead36b",
   "metadata": {},
   "outputs": [],
   "source": [
    "#jeito melhor de inserir itens pt.2\n",
    "for registro in registros:\n",
    "    cursor.execute(comando_inserir, registro)\n",
    "conexao.commit()"
   ]
  },
  {
   "cell_type": "code",
   "execution_count": 55,
   "id": "602cf9df-1fcf-4375-9ff7-42cbb15f20e0",
   "metadata": {},
   "outputs": [],
   "source": [
    "listar = 'select * from Carro'\n",
    "cursor.execute(listar)\n",
    "dados = cursor.fetchall()"
   ]
  },
  {
   "cell_type": "code",
   "execution_count": 59,
   "id": "7f5e12e0-4f68-44cc-8230-27f8b727c0b0",
   "metadata": {},
   "outputs": [
    {
     "name": "stdout",
     "output_type": "stream",
     "text": [
      "ID: 1, Modelo: lamborghini urus, Preço: 1000000.00\n",
      "ID: 2, Modelo: porshe carrera, Preço: 150000.50\n",
      "ID: 3, Modelo: chrysler, Preço: 100000.00\n",
      "ID: 4, Modelo: gol g3, Preço: 20000.00\n"
     ]
    }
   ],
   "source": [
    "# %d = decimal e %s = string\n",
    "for linha in dados:\n",
    "    print('ID: %d, Modelo: %s, Preço: %.2f'% linha)"
   ]
  },
  {
   "cell_type": "code",
   "execution_count": 111,
   "id": "a6aeb5e2-e351-4e20-8b22-9087ff8741d0",
   "metadata": {},
   "outputs": [],
   "source": [
    "def listar_carros():\n",
    "    cursor.execute('select * from Carro')\n",
    "    for linha in cursor.fetchall():\n",
    "        print(f'{linha}')"
   ]
  },
  {
   "cell_type": "code",
   "execution_count": 113,
   "id": "120c6d9d-12e2-41b8-a3ed-1ceeaccd5159",
   "metadata": {},
   "outputs": [
    {
     "name": "stdout",
     "output_type": "stream",
     "text": [
      "(1, 'lamborghini urus', 1000000.0)\n",
      "(2, 'porshe carrera', 150000.5)\n",
      "(3, 'chrysler', 100000.0)\n",
      "(4, 'gol g3', 20000.0)\n"
     ]
    }
   ],
   "source": [
    "listar_carros()"
   ]
  },
  {
   "cell_type": "code",
   "execution_count": 115,
   "id": "cf02434c-21a7-421f-bf56-d27b55246de0",
   "metadata": {},
   "outputs": [],
   "source": [
    "conexao.commit()\n",
    "cursor.close()\n",
    "conexao.close()"
   ]
  },
  {
   "cell_type": "code",
   "execution_count": null,
   "id": "fadc4448-8663-41fd-bb08-553a818ee388",
   "metadata": {},
   "outputs": [],
   "source": []
  }
 ],
 "metadata": {
  "kernelspec": {
   "display_name": "Python 3 (ipykernel)",
   "language": "python",
   "name": "python3"
  },
  "language_info": {
   "codemirror_mode": {
    "name": "ipython",
    "version": 3
   },
   "file_extension": ".py",
   "mimetype": "text/x-python",
   "name": "python",
   "nbconvert_exporter": "python",
   "pygments_lexer": "ipython3",
   "version": "3.12.7"
  }
 },
 "nbformat": 4,
 "nbformat_minor": 5
}
